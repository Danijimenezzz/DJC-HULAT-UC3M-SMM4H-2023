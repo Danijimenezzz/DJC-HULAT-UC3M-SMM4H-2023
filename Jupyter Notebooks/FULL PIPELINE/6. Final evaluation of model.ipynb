{
 "cells": [
  {
   "cell_type": "markdown",
   "id": "6ee142c6",
   "metadata": {},
   "source": [
    "### Final evaluation of model"
   ]
  },
  {
   "cell_type": "code",
   "execution_count": 1,
   "id": "4c5b3f93",
   "metadata": {},
   "outputs": [],
   "source": [
    "import zipfile\n",
    "import time\n",
    "\n",
    "import joblib\n",
    "import lazypredict\n",
    "import pandas as pd\n",
    "\n",
    "from sklearn.ensemble import RandomForestClassifier, GradientBoostingClassifier\n",
    "from sklearn.metrics import precision_recall_fscore_support as score\n",
    "from lazypredict.Supervised import LazyClassifier"
   ]
  },
  {
   "cell_type": "code",
   "execution_count": 2,
   "id": "406c6f0b",
   "metadata": {},
   "outputs": [],
   "source": [
    "X_train_vect = pd.read_csv(\"C:\\\\Users\\\\danij\\\\Documents\\\\UC3M\\\\TFG\\\\DATA\\\\X_train_vect.csv\")\n",
    "X_test_vect = pd.read_csv(\"C:\\\\Users\\\\danij\\\\Documents\\\\UC3M\\\\TFG\\\\DATA\\\\X_test_vect.csv\")\n",
    "\n",
    "y_train = pd.read_csv(\"C:\\\\Users\\\\danij\\\\Documents\\\\UC3M\\\\TFG\\\\DATA\\\\train_labels.csv\")\n",
    "y_test = pd.read_csv(\"C:\\\\Users\\\\danij\\\\Documents\\\\UC3M\\\\TFG\\\\DATA\\\\test_labels.csv\")"
   ]
  },
  {
   "cell_type": "code",
   "execution_count": 3,
   "id": "ee1d276e",
   "metadata": {},
   "outputs": [
    {
     "name": "stdout",
     "output_type": "stream",
     "text": [
      "3009\n",
      "753\n",
      "3009\n",
      "753\n"
     ]
    }
   ],
   "source": [
    "print(len(X_train_vect))\n",
    "print(len(X_test_vect))\n",
    "\n",
    "print(len(y_train))\n",
    "print(len(y_test))"
   ]
  },
  {
   "cell_type": "code",
   "execution_count": 4,
   "id": "4ca3afa0",
   "metadata": {},
   "outputs": [],
   "source": [
    "# Creating a RandomForestClassifier object with specified parameters\n",
    "rf = RandomForestClassifier(n_estimators=150, max_depth=None, n_jobs=-1)\n",
    "\n",
    "# Measuring the time taken to fit (train) the RandomForestClassifier on the training data\n",
    "start = time.time()\n",
    "\n",
    "# Training the model\n",
    "rf_model = rf.fit(X_train_vect, y_train)\n",
    "# Save the model for future use\n",
    "joblib.dump(rf_model, \"C:\\\\Users\\\\danij\\\\Documents\\\\UC3M\\\\TFG\\\\MODELS\\\\rf_model.pkl\")\n",
    "\n",
    "# Calculating total time taken to train the model\n",
    "end = time.time()\n",
    "fit_time = (end - start)"
   ]
  },
  {
   "cell_type": "code",
   "execution_count": 5,
   "id": "35c0a77a",
   "metadata": {},
   "outputs": [],
   "source": [
    "# Measuring the time taken to make predictions on the testing data\n",
    "start = time.time()\n",
    "\n",
    "# Making predictions\n",
    "test_predictions = rf_model.predict(X_test_vect)\n",
    "\n",
    "# Calculating total time taken to train the model\n",
    "end = time.time()\n",
    "pred_time = (end - start)"
   ]
  },
  {
   "cell_type": "markdown",
   "id": "70136dba",
   "metadata": {},
   "source": [
    "### Evaluating the model"
   ]
  },
  {
   "cell_type": "code",
   "execution_count": 6,
   "id": "2912fb25",
   "metadata": {},
   "outputs": [
    {
     "name": "stdout",
     "output_type": "stream",
     "text": [
      "Macro Average Precision: 0.6264331874087972\n",
      "Macro Average Recall: 0.35454044001114826\n",
      "Macro Average F1-score: 0.3148280183843417\n",
      "Fit time: 5.166675329208374\n",
      "Predict time: 0.24392271041870117\n"
     ]
    }
   ],
   "source": [
    "# Computing precision, recall, fscore, and support values for the predicted results\n",
    "precision, recall, fscore, support = score(y_test, test_predictions, average='macro')\n",
    "\n",
    "# Printing the precision, recall, and F1-score\n",
    "print('Macro Average Precision:', precision)\n",
    "print('Macro Average Recall:', recall)\n",
    "print('Macro Average F1-score:', fscore)\n",
    "print('Fit time:', fit_time)\n",
    "print('Predict time:', pred_time)"
   ]
  },
  {
   "cell_type": "markdown",
   "id": "9595a6ed",
   "metadata": {},
   "source": [
    "### Evaluating other possible models"
   ]
  },
  {
   "cell_type": "code",
   "execution_count": null,
   "id": "d447ed63",
   "metadata": {},
   "outputs": [
    {
     "name": "stderr",
     "output_type": "stream",
     "text": [
      " 45%|████████████████████████████████████▊                                             | 13/29 [14:10<04:21, 16.37s/it]"
     ]
    }
   ],
   "source": [
    "clf = LazyClassifier(verbose=0, ignore_warnings=True, custom_metric=None)\n",
    "models, predictions = clf.fit(X_train_vect, X_test_vect, y_train, y_test)"
   ]
  },
  {
   "cell_type": "code",
   "execution_count": null,
   "id": "75efd43e",
   "metadata": {},
   "outputs": [],
   "source": [
    "print(models)"
   ]
  },
  {
   "cell_type": "markdown",
   "id": "7e58e728",
   "metadata": {},
   "source": [
    "### Saving predictions for submission"
   ]
  },
  {
   "cell_type": "code",
   "execution_count": null,
   "id": "0372ca6b",
   "metadata": {},
   "outputs": [],
   "source": [
    "# Create a new dataframe for submission\n",
    "submission = pd.DataFrame({'tweet_id': X_test_vect['tweet_id'], 'label': test_predictions})\n",
    "\n",
    "# Save the submission dataframe to a txt file\n",
    "submission.to_csv('C:\\\\Users\\\\danij\\\\Documents\\\\UC3M\\\\TFG\\\\PREDICTIONS\\\\answer.txt', mode='w', sep='\\t', index=False)"
   ]
  }
 ],
 "metadata": {
  "kernelspec": {
   "display_name": "Python 3 (ipykernel)",
   "language": "python",
   "name": "python3"
  },
  "language_info": {
   "codemirror_mode": {
    "name": "ipython",
    "version": 3
   },
   "file_extension": ".py",
   "mimetype": "text/x-python",
   "name": "python",
   "nbconvert_exporter": "python",
   "pygments_lexer": "ipython3",
   "version": "3.9.13"
  }
 },
 "nbformat": 4,
 "nbformat_minor": 5
}
