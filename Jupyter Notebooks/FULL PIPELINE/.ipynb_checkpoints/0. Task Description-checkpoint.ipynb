{
 "cells": [
  {
   "cell_type": "markdown",
   "id": "c5c9c981",
   "metadata": {},
   "source": [
    "# Multi-class classification of sentiment associated with therapies in English tweets"
   ]
  },
  {
   "cell_type": "markdown",
   "id": "0757f3de",
   "metadata": {},
   "source": [
    "## Daniel Jimenez Campos - 2023"
   ]
  },
  {
   "cell_type": "markdown",
   "id": "e6c509cb",
   "metadata": {},
   "source": [
    "### Data Description\n",
    "\n",
    "**Training data**: 3009 tweets  \n",
    "**Validation data**: 753 tweets  \n",
    "**Testing data**: TBA  \n",
    "**Evaluation metric**: micro-averaged F1-score  \n",
    "\n",
    "### Data Examples\n",
    "\n",
    "| tweet_id | therapy     | text                                                                                                                                                       | label    |\n",
    "|----------|-------------|------------------------------------------------------------------------------------------------------------------------------------------------------------|----------|\n",
    "| 15309    | meditation  | Did you know meditation can be one of the *most rewarding important things you do in your life*? Did you also know it’s *impossible to not be able to meditate*? For people that believe your mind must somehow go blank you’re wrong unless you’re dead. | positive |\n",
    "| 15262    | acupuncture | abt to get acupuncture for my migraines for the first time ever & i am *terrified*                                                                             | neutral  |\n",
    "\n",
    "### Submission Format\n",
    "\n",
    "Please use the format below for submission. Submissions should contain tweet_id and label separated by tabspace in the same order as below.\n",
    "\n",
    "tweet_id label\n",
    "15309 positive\n",
    "15262 neutral\n",
    "\n",
    "\n",
    "The unzipped submission data needs to be named as *\"answer.txt\"* and be zipped.\n",
    "\n",
    "For more information, please refer to [this link](https://github.com/codalab/codalab-competitions/wiki/User_Building-a-Scoring-Program-for-a-Competition#directory-structure-for-submissions).\n",
    "\n",
    "\n",
    "Simply copy and paste the above Markdown-formatted text into an empty Markdown cell in Jupyter Notebook to display it correctly."
   ]
  },
  {
   "cell_type": "markdown",
   "id": "6e53f48f",
   "metadata": {},
   "source": [
    "# Pipeline Index"
   ]
  },
  {
   "cell_type": "markdown",
   "id": "8211a454",
   "metadata": {},
   "source": [
    "0. Introduction\n",
    "1. Exploratory Data Analysis\n",
    "2. Data Cleaning\n",
    "3. Feature Engineering\n",
    "4. Hyperparameter Tuning\n",
    "4. Vectorizing\n",
    "5. Model Evaluation\n",
    "6. Final model selection\n",
    "7. Make predictions on new data"
   ]
  }
 ],
 "metadata": {
  "kernelspec": {
   "display_name": "Python 3 (ipykernel)",
   "language": "python",
   "name": "python3"
  },
  "language_info": {
   "codemirror_mode": {
    "name": "ipython",
    "version": 3
   },
   "file_extension": ".py",
   "mimetype": "text/x-python",
   "name": "python",
   "nbconvert_exporter": "python",
   "pygments_lexer": "ipython3",
   "version": "3.9.13"
  }
 },
 "nbformat": 4,
 "nbformat_minor": 5
}
